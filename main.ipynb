{
 "cells": [
  {
   "cell_type": "markdown",
   "metadata": {
    "collapsed": true,
    "pycharm": {
     "name": "#%% md\n"
    }
   },
   "source": [
    "# Amazon Scraper\n",
    "#### A web scraper that helps me monitor the in stock status of animal crossing consoles."
   ]
  },
  {
   "cell_type": "code",
   "execution_count": 312,
   "metadata": {
    "pycharm": {
     "is_executing": false,
     "name": "#%%\n"
    }
   },
   "outputs": [],
   "source": [
    "# Python script for Amazon product availability checker \n",
    "\n",
    "# importing libraries \n",
    "from lxml import html \n",
    "import requests \n",
    "from time import sleep \n",
    "import time \n",
    "import schedule \n",
    "import datetime\n",
    "import random\n",
    "\n",
    "import re\n",
    "import webbrowser\n",
    "from bs4 import BeautifulSoup\n",
    "\n",
    "import smtplib\n",
    "from email.mime.multipart import MIMEMultipart\n",
    "from email.mime.text import MIMEText"
   ]
  },
  {
   "cell_type": "code",
   "execution_count": 283,
   "metadata": {
    "pycharm": {
     "is_executing": false,
     "name": "#%%\n"
    }
   },
   "outputs": [],
   "source": [
    "# Email id for who want to check availability \n",
    "receiver_email_id = \"\"\n",
    "\n",
    "# URL for different shops\n",
    "amazonURL1 = \"https://www.amazon.com/gp/product/B07X51X3CB/ref=crt_ewc_title_dp_2?ie=UTF8&psc=1&smid=ATVPDKIKX0DER\" # For Testing\n",
    "amazonURL = \"https://www.amazon.com/Nintendo-Switch-Animal-Crossing-New-Horizons/dp/B084DDDNRP/index.html\"\n",
    "\n",
    "# Email\n",
    "smtp_server = \"smtp.gmail.com\"\n",
    "port = 587\n",
    "password = \"\"\n",
    "sender_email = \"\"\n",
    "receiver_email = \"\"\n",
    "receiver_email_list = [\"\",\"\"]"
   ]
  },
  {
   "cell_type": "code",
   "execution_count": 284,
   "metadata": {
    "pycharm": {
     "is_executing": false,
     "name": "#%%\n"
    }
   },
   "outputs": [],
   "source": [
    "def main():\n",
    "    delay_time = random.randint(0,30)\n",
    "    while(True):\n",
    "        getAmazon()\n",
    "        \n",
    "        sleep(delay_time)\n",
    "        \n",
    "def getPage(url):\n",
    "    print(\"Requesting page from: \" + str(url))\n",
    "    headers = {'User-Agent': 'Mozilla/5.0 (iPhone; CPU iPhone OS 12_1 like Mac OS X) AppleWebKit/605.1.15 (KHTML, like Gecko) CriOS/80.0.3987.95 Mobile/15E148 Safari/605.1'}  \n",
    "    page = requests.get(url, headers = headers)  \n",
    "    return page\n",
    "\n",
    "def outputHTML(html, site):\n",
    "    with open(str(site+\".html\"), \"w\", encoding = 'utf-8') as file:\n",
    "        file.write(str(html))\n",
    "\n",
    "def mailman(store, url):\n",
    "    # Message container.\n",
    "    msg = MIMEMultipart('alternative')\n",
    "    msg['Subject'] = \"Item In Store!\"\n",
    "    msg['From'] = sender_email\n",
    "    msg['To'] = receiver_email\n",
    "    text = \"In Stock at \" + store + \".\\n \" + url\n",
    "    msg.attach(MIMEText(text, 'plain'))\n",
    "    print(\"Message created: \\n\" + text)\n",
    "\n",
    "    # Login to SMTP and send email.\n",
    "    s = smtplib.SMTP(smtp_server, port) \n",
    "    s.starttls() \n",
    "    s.login(sender_email,password)  \n",
    "    for receiver in receiver_email_list:\n",
    "        s.sendmail(sender_email, receiver, msg.as_string())\n",
    "        print(\"Sent email to: \" + receiver)\n",
    "    s.quit()"
   ]
  },
  {
   "cell_type": "code",
   "execution_count": 285,
   "metadata": {},
   "outputs": [],
   "source": [
    "def getAmazon():\n",
    "    # Parse HTML\n",
    "    print(\"-----------NEW SESSION: \" + str(datetime.datetime.now()) + \"-----------\")\n",
    "    page = getPage(amazonURL)\n",
    "    soup = BeautifulSoup(page.content, 'lxml')\n",
    "    \n",
    "    # Output received HTML for debug\n",
    "    outputHTML(soup, \"Amazon\")\n",
    "    \n",
    "    # Determine whether is in stock\n",
    "    if(soup.find('a', class_='a-button-text') == None):\n",
    "        print(\"Amazon In Stock!\")\n",
    "        \n",
    "        print(\"Opening up page on local computer!\")\n",
    "        webbrowser.open(amazonURL)\n",
    "        \n",
    "        print(\"Sending Email to everyone in mailing list!\")\n",
    "        mailman(\"Amazon\",amazonURL)\n",
    "    elif(\"See All Buying Options\" in soup.find('a', class_='a-button-text').text):\n",
    "        print(\"Amazon Out of Stock!\")\n",
    "    else:\n",
    "        print(\"UnknownErrorException\")\n",
    "        \n",
    "    print(\"------------------------END OF SESSION------------------------\")"
   ]
  }
 ],
 "metadata": {
  "kernelspec": {
   "display_name": "PyCharm (In-Stock-Monitor)",
   "language": "python",
   "name": "pycharm-dbda32a8"
  },
  "language_info": {
   "codemirror_mode": {
    "name": "ipython",
    "version": 3
   },
   "file_extension": ".py",
   "mimetype": "text/x-python",
   "name": "python",
   "nbconvert_exporter": "python",
   "pygments_lexer": "ipython3",
   "version": "3.7.6"
  },
  "pycharm": {
   "stem_cell": {
    "cell_type": "raw",
    "metadata": {
     "collapsed": false
    },
    "source": []
   }
  }
 },
 "nbformat": 4,
 "nbformat_minor": 1
}
