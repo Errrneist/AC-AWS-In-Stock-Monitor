{
 "cells": [
  {
   "cell_type": "markdown",
   "metadata": {
    "collapsed": true,
    "pycharm": {
     "name": "#%% md\n"
    }
   },
   "source": [
    "# In Stock Monitor\n",
    "#### A web scraper that helps me monitor the in stock status of animal crossing consoles."
   ]
  },
  {
   "cell_type": "code",
   "execution_count": 259,
   "metadata": {
    "pycharm": {
     "is_executing": false,
     "name": "#%%\n"
    }
   },
   "outputs": [],
   "source": [
    "# Python script for Amazon product availability checker \n",
    "\n",
    "# importing libraries \n",
    "from lxml import html \n",
    "import requests \n",
    "from time import sleep \n",
    "import time \n",
    "import schedule \n",
    "import datetime\n",
    "\n",
    "import re\n",
    "import webbrowser\n",
    "from bs4 import BeautifulSoup\n",
    "\n",
    "import smtplib\n",
    "from email.mime.multipart import MIMEMultipart\n",
    "from email.mime.text import MIMEText"
   ]
  },
  {
   "cell_type": "code",
   "execution_count": 274,
   "metadata": {
    "pycharm": {
     "is_executing": false,
     "name": "#%%\n"
    }
   },
   "outputs": [],
   "source": [
    "# Email id for who want to check availability \n",
    "receiver_email_id = \"hongjunwu@Hotmail.com\"\n",
    "\n",
    "# URL for different shops\n",
    "amazonURL1 = \"https://www.amazon.com/gp/product/B07X51X3CB/ref=crt_ewc_title_dp_2?ie=UTF8&psc=1&smid=ATVPDKIKX0DER\"\n",
    "amazonURL = \"https://www.amazon.com/Nintendo-Switch-Animal-Crossing-New-Horizons/dp/B084DDDNRP/index.html\"\n",
    "bestBuyURL = \"https://www.bestbuy.com/site/nintendo-switch-animal-crossing-new-horizons-edition-32gb-console-multi/6401728.p?skuId=6401728\"\n",
    "gamestopURL = \"https://www.gamestop.com/video-games/switch/consoles/products/nintendo-switch-animal-crossing-new-horizons-edition/11100143.html\"\n",
    "walmartURL = \"https://www.walmart.com/ip/Nintendo-Switch-Console-Animal-Crossing-New-Horizons-Edition/539083068\"\n",
    "targetURL = \"https://www.target.com/p/nintendo-switch-animal-crossing-new-horizon-special-edition/-/A-79494599\"\n",
    "\n",
    "# Stuff for email\n",
    "smtp_server = \"smtp.gmail.com\"\n",
    "port = 587\n",
    "password = \"rabgin-saxrA9-havcub\"\n",
    "sender_email = \"spadewkun@gmail.com\"\n",
    "receiver_email = \"hongjunwu@hotmail.com\"\n",
    "receiver_email_list = [\"hongjunwu@hotmail.com\"]\n",
    "# receiver_email_list = [\"hongjunwu@hotmail.com\",\"xyu530@cs.washington.edu\"]"
   ]
  },
  {
   "cell_type": "code",
   "execution_count": 271,
   "metadata": {
    "pycharm": {
     "is_executing": false,
     "name": "#%%\n"
    }
   },
   "outputs": [],
   "source": [
    "def getPage(url):\n",
    "    print(\"Requesting page from: \" + str(url))\n",
    "    headers = {'User-Agent': 'Mozilla/5.0 (iPhone; CPU iPhone OS 12_1 like Mac OS X) AppleWebKit/605.1.15 (KHTML, like Gecko) CriOS/80.0.3987.95 Mobile/15E148 Safari/605.1'}  \n",
    "    page = requests.get(url, headers = headers)  \n",
    "    return page\n",
    "\n",
    "def outputHTML(soup, site):\n",
    "    with open(str(site+\".html\"), \"w\", encoding = 'utf-8') as file:\n",
    "        file.write(str(soup))\n",
    "\n",
    "def mailman(store, url):\n",
    "    # Message container.\n",
    "    msg = MIMEMultipart('alternative')\n",
    "    msg['Subject'] = \"Item In Store!\"\n",
    "    msg['From'] = sender_email\n",
    "    msg['To'] = receiver_email\n",
    "    text = \"In Stock at \" + store + \".\\n \" + url\n",
    "    msg.attach(MIMEText(text, 'plain'))\n",
    "    print(\"Message created: \\n\" + text)\n",
    "\n",
    "    # Login to SMTP and send email.\n",
    "    s = smtplib.SMTP(smtp_server, port) \n",
    "    s.starttls() \n",
    "    s.login(sender_email,password)  \n",
    "    for receiver in receiver_email_list:\n",
    "        s.sendmail(sender_email, receiver, msg.as_string())\n",
    "        print(\"Sent email to: \" + receiver)\n",
    "    s.quit()"
   ]
  },
  {
   "cell_type": "code",
   "execution_count": 272,
   "metadata": {},
   "outputs": [],
   "source": [
    "def getAmazon():\n",
    "    # Parse HTML\n",
    "    print(\"-----------NEW SESSION: \" + str(datetime.datetime.now()) + \"-----------\")\n",
    "    page = getPage(amazonURL)\n",
    "    soup = BeautifulSoup(page.content, 'lxml')\n",
    "    \n",
    "    # Output received HTML for debug\n",
    "    outputHTML(soup, \"Amazon\")\n",
    "    \n",
    "    # Determine whether is in stock\n",
    "    if(soup.find('a', class_='a-button-text') == None):\n",
    "        print(\"Amazon In Stock!\")\n",
    "        \n",
    "        print(\"Opening up page on local computer!\")\n",
    "        webbrowser.open(amazonURL)\n",
    "        \n",
    "        print(\"Sending Email to everyone in mailing list!\")\n",
    "        mailman(\"Amazon\",amazonURL)\n",
    "    elif(\"See All Buying Options\" in soup.find('a', class_='a-button-text').text):\n",
    "        print(\"Amazon Out of Stock!\")\n",
    "    else:\n",
    "        print(\"UnknownErrorException\")\n",
    "        \n",
    "    print(\"------------------------END OF SESSION------------------------\")"
   ]
  },
  {
   "cell_type": "code",
   "execution_count": 275,
   "metadata": {
    "pycharm": {
     "is_executing": false,
     "name": "#%%\n"
    }
   },
   "outputs": [
    {
     "name": "stdout",
     "output_type": "stream",
     "text": [
      "-----------NEW SESSION: 2020-03-25 15:50:13.253014-----------\n",
      "Requesting page from: https://www.amazon.com/Nintendo-Switch-Animal-Crossing-New-Horizons/dp/B084DDDNRP/index.html\n",
      "Complete.\n",
      "Amazon Out of Stock!\n",
      "------------------------END OF SESSION------------------------\n"
     ]
    }
   ],
   "source": [
    "getAmazon()"
   ]
  },
  {
   "cell_type": "code",
   "execution_count": null,
   "metadata": {},
   "outputs": [],
   "source": []
  }
 ],
 "metadata": {
  "kernelspec": {
   "display_name": "PyCharm (In-Stock-Monitor)",
   "language": "python",
   "name": "pycharm-dbda32a8"
  },
  "language_info": {
   "codemirror_mode": {
    "name": "ipython",
    "version": 3
   },
   "file_extension": ".py",
   "mimetype": "text/x-python",
   "name": "python",
   "nbconvert_exporter": "python",
   "pygments_lexer": "ipython3",
   "version": "3.7.6"
  },
  "pycharm": {
   "stem_cell": {
    "cell_type": "raw",
    "metadata": {
     "collapsed": false
    },
    "source": []
   }
  }
 },
 "nbformat": 4,
 "nbformat_minor": 1
}
